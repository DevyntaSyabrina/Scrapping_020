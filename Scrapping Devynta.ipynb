{
 "cells": [
  {
   "cell_type": "code",
   "execution_count": 1,
   "id": "92654e74",
   "metadata": {},
   "outputs": [],
   "source": [
    "import pandas as pd\n",
    "from selenium import webdriver\n",
    "from selenium.webdriver.chrome.service import Service\n",
    "from selenium.webdriver.common.by import By\n",
    "from selenium.webdriver.chrome.options import Options\n",
    "\n",
    "# Set up the Selenium Chrome driver (replace \"path_to_chromedriver\" with the path to your chromedriver executable)\n",
    "service = Service('path_to_chromedriver')\n",
    "options = Options()\n",
    "options.add_argument('--headless')  # Run Chrome in headless mode\n",
    "driver = webdriver.Chrome(service=service, options=options)\n",
    "\n",
    "url = 'https://www.imdb.com/chart/top/'\n",
    "\n",
    "# Open the URL in Chrome\n",
    "driver.get(url)\n",
    "\n",
    "# Find all movie rows on the page\n",
    "movie_rows = driver.find_elements(By.CSS_SELECTOR, '.lister-list tr')\n",
    "\n",
    "# Create lists to store data\n",
    "titles = []\n",
    "ranks = []\n",
    "ratings = []\n",
    "\n",
    "# Iterate over each movie row\n",
    "for row in movie_rows:\n",
    "    # Extract movie title\n",
    "    title_element = row.find_element(By.CSS_SELECTOR, '.titleColumn a')\n",
    "    title = title_element.text\n",
    "    titles.append(title)\n",
    "\n",
    "    # Extract movie rank\n",
    "    rank_element = row.find_element(By.CSS_SELECTOR, '.posterColumn span[name=\"rk\"]')\n",
    "    rank = rank_element.get_attribute('data-value')\n",
    "    ranks.append(rank)\n",
    "\n",
    "    # Extract movie rating\n",
    "    rating_element = row.find_element(By.CSS_SELECTOR, '.imdbRating strong')\n",
    "    rating = rating_element.text\n",
    "    ratings.append(rating)\n",
    "\n",
    "# Quit the driver and close all associated browser windows\n",
    "driver.quit()\n",
    "\n",
    "# Create a DataFrame using the scraped data\n",
    "data = {'Title': titles, 'Rank': ranks, 'Rating': ratings}\n",
    "df = pd.DataFrame(data)\n",
    "\n",
    "# Save the DataFrame to an Excel file\n",
    "df.to_excel('imdb_top_movies.xlsx', index=False)\n"
   ]
  },
  {
   "cell_type": "code",
   "execution_count": null,
   "id": "dbe525e4",
   "metadata": {},
   "outputs": [],
   "source": []
  }
 ],
 "metadata": {
  "kernelspec": {
   "display_name": "Python 3 (ipykernel)",
   "language": "python",
   "name": "python3"
  },
  "language_info": {
   "codemirror_mode": {
    "name": "ipython",
    "version": 3
   },
   "file_extension": ".py",
   "mimetype": "text/x-python",
   "name": "python",
   "nbconvert_exporter": "python",
   "pygments_lexer": "ipython3",
   "version": "3.9.12"
  }
 },
 "nbformat": 4,
 "nbformat_minor": 5
}
